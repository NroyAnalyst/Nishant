{
  "nbformat": 4,
  "nbformat_minor": 0,
  "metadata": {
    "colab": {
      "provenance": [],
      "authorship_tag": "ABX9TyO8fdAoOhsH6d0s9WElfK3N",
      "include_colab_link": true
    },
    "kernelspec": {
      "name": "python3",
      "display_name": "Python 3"
    },
    "language_info": {
      "name": "python"
    }
  },
  "cells": [
    {
      "cell_type": "markdown",
      "metadata": {
        "id": "view-in-github",
        "colab_type": "text"
      },
      "source": [
        "<a href=\"https://colab.research.google.com/github/NroyAnalyst/Nishant/blob/main/Sentiment_analysis.ipynb\" target=\"_parent\"><img src=\"https://colab.research.google.com/assets/colab-badge.svg\" alt=\"Open In Colab\"/></a>"
      ]
    },
    {
      "cell_type": "code",
      "source": [
        "#Sentiment Analysis\n",
        "from textblob import TextBlob\n",
        "\n",
        "while True:\n",
        "  text = input(\"Enter a sentence(or quit):\")\n",
        "  if text.lower() == \"quit\":\n",
        "      break\n",
        "\n",
        "  blob = TextBlob(text)\n",
        "  sentiment = blob.sentiment.polarity\n",
        "\n",
        "  if sentiment > 0:\n",
        "    print (\"positive\")\n",
        "  elif sentiment < 0:\n",
        "    print (\"negative\")\n",
        "  else:\n",
        "    print(\"Neutral\")"
      ],
      "metadata": {
        "colab": {
          "base_uri": "https://localhost:8080/"
        },
        "id": "1ZIHd0Aue_4s",
        "outputId": "ca94a7be-bff5-458f-bae2-02f53b6e9a02"
      },
      "execution_count": null,
      "outputs": [
        {
          "output_type": "stream",
          "name": "stdout",
          "text": [
            "Enter a sentence(or quit):coding is essential for AI\n",
            "Neutral\n",
            "Enter a sentence(or quit):AI is a human intelligence replica\n",
            "Neutral\n",
            "Enter a sentence(or quit):Artificial intelligence having a power to destroy mankind.\n",
            "negative\n",
            "Enter a sentence(or quit):AI can enhance the future technologies\n",
            "Neutral\n"
          ]
        }
      ]
    }
  ]
}