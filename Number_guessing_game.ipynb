{
  "nbformat": 4,
  "nbformat_minor": 0,
  "metadata": {
    "colab": {
      "provenance": [],
      "authorship_tag": "ABX9TyO3dO6TJAkz9dgZAYk7Betu",
      "include_colab_link": true
    },
    "kernelspec": {
      "name": "python3",
      "display_name": "Python 3"
    },
    "language_info": {
      "name": "python"
    }
  },
  "cells": [
    {
      "cell_type": "markdown",
      "metadata": {
        "id": "view-in-github",
        "colab_type": "text"
      },
      "source": [
        "<a href=\"https://colab.research.google.com/github/NroyAnalyst/Nishant/blob/main/Number_guessing_game.ipynb\" target=\"_parent\"><img src=\"https://colab.research.google.com/assets/colab-badge.svg\" alt=\"Open In Colab\"/></a>"
      ]
    },
    {
      "cell_type": "code",
      "source": [
        "#Ai number guessing\n",
        "\n",
        "low, high = 1,100\n",
        "print(\"think of a number between 1 to 100, i will try to guess it!\")\n",
        "\n",
        "while low<=high:\n",
        "  guess = (low + high) // 2\n",
        "  print(f\"My guess is : {guess}\")\n",
        "  response = input(\"Is it correct (c), too high (h), or too low (l)?\").lower()\n",
        "\n",
        "  if response == \"c\":\n",
        "    print (\"Yay! i guessed right\")\n",
        "    break\n",
        "\n",
        "  elif response == \"h\":\n",
        "    high = guess-1\n",
        "  elif response == \"l\":\n",
        "    low = guess + 1\n",
        "  else:\n",
        "      print(\"Invalid response. Please enter 'c', 'h', or 'l'.\")"
      ],
      "metadata": {
        "colab": {
          "base_uri": "https://localhost:8080/"
        },
        "id": "hXaASTo3aMXu",
        "outputId": "ae35ea39-33bd-4bda-e957-6d40d8185cba"
      },
      "execution_count": null,
      "outputs": [
        {
          "output_type": "stream",
          "name": "stdout",
          "text": [
            "think of a number between 1 to 100, i will try to guess it!\n",
            "My guess is : 50\n",
            "Is it correct (c), too high (h), or too low (l)?l\n",
            "My guess is : 75\n",
            "Is it correct (c), too high (h), or too low (l)?l\n",
            "My guess is : 88\n",
            "Is it correct (c), too high (h), or too low (l)?h\n",
            "My guess is : 81\n"
          ]
        }
      ]
    }
  ]
}