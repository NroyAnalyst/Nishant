{
  "nbformat": 4,
  "nbformat_minor": 0,
  "metadata": {
    "colab": {
      "provenance": [],
      "authorship_tag": "ABX9TyNhyjAvXvwnEKWZRL5zqfEf",
      "include_colab_link": true
    },
    "kernelspec": {
      "name": "python3",
      "display_name": "Python 3"
    },
    "language_info": {
      "name": "python"
    }
  },
  "cells": [
    {
      "cell_type": "markdown",
      "metadata": {
        "id": "view-in-github",
        "colab_type": "text"
      },
      "source": [
        "<a href=\"https://colab.research.google.com/github/NroyAnalyst/Nishant/blob/main/movie_recommendation_2.ipynb\" target=\"_parent\"><img src=\"https://colab.research.google.com/assets/colab-badge.svg\" alt=\"Open In Colab\"/></a>"
      ]
    },
    {
      "cell_type": "code",
      "execution_count": 1,
      "metadata": {
        "id": "d9Nvu1TUGL3I",
        "colab": {
          "base_uri": "https://localhost:8080/"
        },
        "outputId": "02e1de8e-1cfc-49f0-f063-07afdb3fcfba"
      },
      "outputs": [
        {
          "output_type": "stream",
          "name": "stdout",
          "text": [
            " Movies similar to 'Avatar': ['The American', 'Apollo 18', 'The Matrix', 'Hellraiser: Bloodline', 'Europa Report']\n",
            " Movies similar to 'The Dark Knight': ['The Dark Knight Rises', 'Batman Returns', 'Batman: Under the Red Hood', 'Batman Forever', 'Batman: The Dark Knight Returns, Part 2']\n",
            " Movies similar to 'Interstellar': ['Suburban Commando', 'Stargate', 'Buzz Lightyear of Star Command: The Adventure Begins', 'Starship Troopers', 'The Green Inferno']\n"
          ]
        }
      ],
      "source": [
        "# Import libraries\n",
        "import pandas as pd\n",
        "from sklearn.feature_extraction.text import TfidfVectorizer\n",
        "from sklearn.metrics.pairwise import cosine_similarity\n",
        "\n",
        "#  Load dataset from GitHub RAW link\n",
        "url = \"https://raw.githubusercontent.com/yinghaoz1/tmdb-movie-dataset-analysis/master/tmdb-movies.csv\"\n",
        "df = pd.read_csv(url)\n",
        "\n",
        "# Pick correct columns (title + text to analyze)\n",
        "title_col = 'title' if 'title' in df.columns else 'original_title'\n",
        "text_col = 'overview' if 'overview' in df.columns else None\n",
        "\n",
        "# If no 'overview', combine other metadata into text\n",
        "if text_col is None:\n",
        "    parts = [c for c in ['tagline','keywords','genres','cast','director'] if c in df.columns]\n",
        "    df['__text__'] = df[parts].fillna('').astype(str).agg(' '.join, axis=1)\n",
        "    text_col = '__text__'\n",
        "\n",
        "# Drop missing overviews\n",
        "df = df.dropna(subset=[text_col]).reset_index(drop=True)\n",
        "\n",
        "#  Convert movie descriptions into vectors (TF-IDF)\n",
        "vectorizer = TfidfVectorizer(stop_words='english')\n",
        "tfidf = vectorizer.fit_transform(df[text_col])\n",
        "\n",
        "#  Compute similarity between all movies\n",
        "cosine_sim = cosine_similarity(tfidf)\n",
        "\n",
        "#  Create a mapping: movie title → row index\n",
        "indices = pd.Series(df.index, index=df[title_col].str.lower()).drop_duplicates()\n",
        "\n",
        "#  Define recommendation function\n",
        "def recommend_movies(title, n=5):\n",
        "    key = title.lower()\n",
        "    if key not in indices.index:\n",
        "        # Suggest similar matches if title not found\n",
        "        matches = df[df[title_col].str.contains(title, case=False, na=False)][title_col].head(5).tolist()\n",
        "        return [\"Movie not found. Did you mean:\"] + matches if matches else [\"Movie not found. Check spelling.\"]\n",
        "    idx = indices[key]\n",
        "    sims = cosine_sim[idx]\n",
        "    top_idx = sims.argsort()[::-1][1:n+1]  # skip itself\n",
        "    return df[title_col].iloc[top_idx].tolist()\n",
        "\n",
        "#  Test the system\n",
        "print(\" Movies similar to 'Avatar':\", recommend_movies(\"Avatar\"))\n",
        "print(\" Movies similar to 'The Dark Knight':\", recommend_movies(\"The Dark Knight\"))\n",
        "print(\" Movies similar to 'Interstellar':\", recommend_movies(\"Interstellar\"))\n"
      ]
    }
  ]
}