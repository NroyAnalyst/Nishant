{
  "nbformat": 4,
  "nbformat_minor": 0,
  "metadata": {
    "colab": {
      "provenance": [],
      "authorship_tag": "ABX9TyMZM1hzQCpO8Fx3QC3RFrwz",
      "include_colab_link": true
    },
    "kernelspec": {
      "name": "python3",
      "display_name": "Python 3"
    },
    "language_info": {
      "name": "python"
    }
  },
  "cells": [
    {
      "cell_type": "markdown",
      "metadata": {
        "id": "view-in-github",
        "colab_type": "text"
      },
      "source": [
        "<a href=\"https://colab.research.google.com/github/NroyAnalyst/Nishant/blob/main/Spam_Detection_using_Naive_Bayes.ipynb\" target=\"_parent\"><img src=\"https://colab.research.google.com/assets/colab-badge.svg\" alt=\"Open In Colab\"/></a>"
      ]
    },
    {
      "cell_type": "code",
      "execution_count": 2,
      "metadata": {
        "id": "d9Nvu1TUGL3I",
        "colab": {
          "base_uri": "https://localhost:8080/"
        },
        "outputId": "94fcead8-3ef3-4ca9-ecdc-3ca089eb09a3"
      },
      "outputs": [
        {
          "output_type": "stream",
          "name": "stdout",
          "text": [
            "first 5 rows of dataset:\n",
            "  label                                            message\n",
            "0   ham  Go until jurong point, crazy.. Available only ...\n",
            "1   ham                      Ok lar... Joking wif u oni...\n",
            "2  spam  Free entry in 2 a wkly comp to win FA Cup fina...\n",
            "3   ham  U dun say so early hor... U c already then say...\n",
            "4   ham  Nah I don't think he goes to usf, he lives aro...\n",
            "\n",
            " Accuracy: 0.9757847533632287\n",
            "\n",
            " Classification Report:               precision    recall  f1-score   support\n",
            "\n",
            "           0       0.98      0.99      0.99       957\n",
            "           1       0.96      0.87      0.91       158\n",
            "\n",
            "    accuracy                           0.98      1115\n",
            "   macro avg       0.97      0.93      0.95      1115\n",
            "weighted avg       0.98      0.98      0.98      1115\n",
            "\n",
            "\n",
            " Message: Congratulation! You won a free ticket to Bahmass. Call now! -->SPAM\n",
            "\n",
            " Message: Hi, can we meet tommorrow for lunch. -->HAM\n",
            "\n",
            " Message: You have been selected for a cash price of $1000. Reply Yes to claim. -->SPAM\n",
            "\n",
            " Message: Let's go for a walk in the park. -->HAM\n"
          ]
        }
      ],
      "source": [
        "import pandas as pd\n",
        "from sklearn.feature_extraction.text import CountVectorizer\n",
        "from sklearn.model_selection import train_test_split\n",
        "from sklearn.naive_bayes import MultinomialNB\n",
        "from sklearn.metrics import accuracy_score, classification_report\n",
        "url=\"https://raw.githubusercontent.com/justmarkham/pycon-2016-tutorial/master/data/sms.tsv\"\n",
        "data=pd.read_csv(url,sep='\\t', header= None, names=['label','message'])\n",
        "print(\"first 5 rows of dataset:\")\n",
        "print(data.head())\n",
        "data['label_num']=data.label.map({'ham':0, 'spam':1})\n",
        "X_train, X_test, y_train, y_test=train_test_split(\n",
        "    data['message'], data['label_num'], test_size=0.2, random_state=2\n",
        ")\n",
        "vectorizer=CountVectorizer()\n",
        "X_train_vec=vectorizer.fit_transform(X_train)\n",
        "X_test_vec=vectorizer.transform(X_test)\n",
        "model=MultinomialNB()\n",
        "model.fit(X_train_vec, y_train)\n",
        "y_pred=model.predict(X_test_vec)\n",
        "print(\"\\n Accuracy:\", accuracy_score(y_test, y_pred))\n",
        "print(\"\\n Classification Report:\", classification_report(y_test,y_pred))\n",
        "sample_message=[\n",
        "    \"Congratulation! You won a free ticket to Bahmass. Call now!\",\n",
        "    \"Hi, can we meet tommorrow for lunch.\",\n",
        "    \"You have been selected for a cash price of $1000. Reply Yes to claim.\",\n",
        "    \"Let's go for a walk in the park.\"\n",
        "]\n",
        "sample_vec=vectorizer.transform(sample_message)\n",
        "predictions=model.predict(sample_vec)\n",
        "\n",
        "for msg, label in zip(sample_message, predictions):\n",
        "    print(f\"\\n Message: {msg} -->{'SPAM' if label==1 else 'HAM'}\")\n"
      ]
    }
  ]
}