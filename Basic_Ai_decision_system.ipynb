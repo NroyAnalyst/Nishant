{
  "nbformat": 4,
  "nbformat_minor": 0,
  "metadata": {
    "colab": {
      "provenance": [],
      "authorship_tag": "ABX9TyMoW6Nt/6FccYxfE0ou+VVx",
      "include_colab_link": true
    },
    "kernelspec": {
      "name": "python3",
      "display_name": "Python 3"
    },
    "language_info": {
      "name": "python"
    }
  },
  "cells": [
    {
      "cell_type": "markdown",
      "metadata": {
        "id": "view-in-github",
        "colab_type": "text"
      },
      "source": [
        "<a href=\"https://colab.research.google.com/github/NroyAnalyst/Nishant/blob/main/Basic_Ai_decision_system.ipynb\" target=\"_parent\"><img src=\"https://colab.research.google.com/assets/colab-badge.svg\" alt=\"Open In Colab\"/></a>"
      ]
    },
    {
      "cell_type": "code",
      "source": [
        "import random\n",
        "\n",
        "choices = [\"rock\", \"paper\", \"scissor\"]\n",
        "\n",
        "while True:\n",
        "  user = input (\"enter rock, paper or scissor (or quit):\").lower()\n",
        "  if user == \"quit\":\n",
        "    break\n",
        "  if user not in choices:\n",
        "    print (\"invalid choice! Try again.\")\n",
        "    continue\n",
        "  ai = random.choice(choices)\n",
        "  print(\"AI chose:\",ai)"
      ],
      "metadata": {
        "colab": {
          "base_uri": "https://localhost:8080/"
        },
        "id": "9CcSO_Yvbrwh",
        "outputId": "7c7b63e5-a1ee-411d-ac52-23235e0bce95"
      },
      "execution_count": null,
      "outputs": [
        {
          "output_type": "stream",
          "name": "stdout",
          "text": [
            "enter rock, paper or scissor (or quit):paper\n",
            "AI chose: scissor\n",
            "enter rock, paper or scissor (or quit):paper\n",
            "AI chose: paper\n",
            "enter rock, paper or scissor (or quit):Paper\n",
            "AI chose: paper\n",
            "enter rock, paper or scissor (or quit):scissor\n",
            "AI chose: scissor\n"
          ]
        }
      ]
    }
  ]
}