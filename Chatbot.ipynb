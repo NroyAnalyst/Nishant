{
  "nbformat": 4,
  "nbformat_minor": 0,
  "metadata": {
    "colab": {
      "provenance": [],
      "authorship_tag": "ABX9TyPKiUGrKc3r4x1Kk3GOfqZF",
      "include_colab_link": true
    },
    "kernelspec": {
      "name": "python3",
      "display_name": "Python 3"
    },
    "language_info": {
      "name": "python"
    }
  },
  "cells": [
    {
      "cell_type": "markdown",
      "metadata": {
        "id": "view-in-github",
        "colab_type": "text"
      },
      "source": [
        "<a href=\"https://colab.research.google.com/github/NroyAnalyst/Nishant/blob/main/Chatbot.ipynb\" target=\"_parent\"><img src=\"https://colab.research.google.com/assets/colab-badge.svg\" alt=\"Open In Colab\"/></a>"
      ]
    },
    {
      "cell_type": "code",
      "execution_count": 10,
      "metadata": {
        "colab": {
          "base_uri": "https://localhost:8080/"
        },
        "id": "TRaKxe5jPjMU",
        "outputId": "86435768-85cb-4932-c68f-424df6155fd8"
      },
      "outputs": [
        {
          "output_type": "stream",
          "name": "stdout",
          "text": [
            "chatbot: Hi! i am your chatbot. type 'bye' to exit.\n",
            "You: hello\n",
            "Chatbot: Hello! how are you?\n",
            "You: good\n",
            "Chatbot: Nice to hear that! :)\n",
            "You: bad\n",
            "Chatbot: Hope everything will be fine.\n",
            "You: bye\n",
            "Chatbot: bye! Have a great day.\n"
          ]
        }
      ],
      "source": [
        "#simple rule based chat bot\n",
        "import textblob as txt\n",
        "print(\"chatbot: Hi! i am your chatbot. type 'bye' to exit.\")\n",
        "\n",
        "while True:\n",
        "\n",
        "  user_input = input(\"You: \").lower()\n",
        "\n",
        "  if user_input == \"hello\":\n",
        "      print(\"Chatbot: Hello! how are you?\")\n",
        "  elif user_input == \"good\":\n",
        "      print(\"Chatbot: Nice to hear that! :)\")\n",
        "  elif user_input == \"bad\":\n",
        "      print(\"Chatbot: Hope everything will be fine.\")\n",
        "  elif user_input == \"bye\":\n",
        "      print(\"Chatbot: bye! Have a great day.\")\n",
        "      break;\n",
        "  else:\n",
        "      print(\"Chatbot: i don't understand yet\")"
      ]
    }
  ]
}