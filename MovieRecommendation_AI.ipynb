{
  "nbformat": 4,
  "nbformat_minor": 0,
  "metadata": {
    "colab": {
      "provenance": [],
      "authorship_tag": "ABX9TyO6RnroStqly9RbrJlEZb11",
      "include_colab_link": true
    },
    "kernelspec": {
      "name": "python3",
      "display_name": "Python 3"
    },
    "language_info": {
      "name": "python"
    }
  },
  "cells": [
    {
      "cell_type": "markdown",
      "metadata": {
        "id": "view-in-github",
        "colab_type": "text"
      },
      "source": [
        "<a href=\"https://colab.research.google.com/github/NroyAnalyst/Nishant/blob/main/MovieRecommendation_AI.ipynb\" target=\"_parent\"><img src=\"https://colab.research.google.com/assets/colab-badge.svg\" alt=\"Open In Colab\"/></a>"
      ]
    },
    {
      "cell_type": "code",
      "execution_count": 3,
      "metadata": {
        "colab": {
          "base_uri": "https://localhost:8080/"
        },
        "id": "m1VVPOiU89RU",
        "outputId": "e1a662ef-05fd-4f35-f7fb-d2aefd9e101d"
      },
      "outputs": [
        {
          "output_type": "stream",
          "name": "stdout",
          "text": [
            "movies similar to 'Inception' :\n",
            "0         The Metrix\n",
            "1          john Wick\n",
            "2    The Dark Knight\n",
            "4       Interstellar\n",
            "5    Avenger Endgame\n",
            "Name: title, dtype: object\n",
            "\n",
            " movies similar to 'Iron Man' :\n",
            "0         The Metrix\n",
            "1          john Wick\n",
            "2    The Dark Knight\n",
            "3          Inception\n",
            "4       Interstellar\n",
            "Name: title, dtype: object\n"
          ]
        }
      ],
      "source": [
        "import pandas as pd\n",
        "from sklearn.feature_extraction.text import TfidfVectorizer\n",
        "from sklearn.metrics.pairwise import cosine_similarity\n",
        "\n",
        "#sample movie data set\n",
        "movies = {\n",
        "    'title':[\n",
        "        'The Metrix',\n",
        "        'john Wick',\n",
        "        'The Dark Knight',\n",
        "        'Inception',\n",
        "        'Interstellar',\n",
        "        'Avenger Endgame',\n",
        "        'Iron Man',\n",
        "        'Doctor Strange',\n",
        "        'The restige',\n",
        "        'Tenet'\n",
        "        ],\n",
        "    'description':[\n",
        "        'A computer hacker learns about the true nature of reality and his role in the war against its controllers.',\n",
        "        'An ex-hitman comes out retirement to track down gangster who took everything from him.',\n",
        "        'Batman faces the jokker, a crimnal mastermind who wants to plunge Gotham into anarchy',\n",
        "        'A thief who steals corporate secrets through dreams must plant an idea into someones mind',\n",
        "        'Explorers travel through a warmhole in space to save humanity from a dying Earth.',\n",
        "        'The Avengers assemble once more to reverse thanos actions and restore balance to the earth.',\n",
        "        'A billionare builds a high-tech suit to fight evil and becomes the hero Iron man',\n",
        "        'A neurosergeon discover the world of mystic arts and becomes a powerful sorcerer',\n",
        "        'Two magicians enagage in a battle to create ultimate stage illusion',\n",
        "        'A secret agent manipulates time to prevent World War III'\n",
        "\n",
        "    ]\n",
        "}\n",
        "\n",
        "df = pd.DataFrame(movies)\n",
        "df\n",
        "\n",
        "#converts descriptions into numerical feature using TF-IDF\n",
        "vectorizer = TfidfVectorizer(stop_words = 'english')\n",
        "tfid_matrix = vectorizer.fit_transform(df['description'])\n",
        "\n",
        "#compute cosine similarity between movies\n",
        "cosine_sim = cosine_similarity(tfid_matrix, tfid_matrix)\n",
        "\n",
        "#Function to recommend movies\n",
        "def recommend_movies(title, df, cosine_sim ):\n",
        "\n",
        "        #find index of the given movies\n",
        "        idx = df[df['title'] == title].index[0]\n",
        "\n",
        "        #get similarity score\n",
        "        sim_scores = list(enumerate(cosine_sim[idx]))\n",
        "\n",
        "        #sort movies by similarity score\n",
        "        sim_scores = sorted (sim_scores, key = lambda x: x[1],reverse = True)[1:6]\n",
        "\n",
        "        #get the indices of the recommended movie\n",
        "        movie_indices = [i[0] for i in sim_scores]\n",
        "\n",
        "        return df['title'].iloc[movie_indices]\n",
        "\n",
        "print(\"movies similar to 'Inception' :\")\n",
        "print(recommend_movies('Inception', df, cosine_sim))\n",
        "\n",
        "print(\"\\n movies similar to 'Iron Man' :\")\n",
        "print(recommend_movies('Iron Man', df, cosine_sim)  )"
      ]
    }
  ]
}