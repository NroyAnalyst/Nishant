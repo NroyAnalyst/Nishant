{
  "nbformat": 4,
  "nbformat_minor": 0,
  "metadata": {
    "colab": {
      "provenance": [],
      "authorship_tag": "ABX9TyPL9iAvYmgvRPlBnKeZLwME",
      "include_colab_link": true
    },
    "kernelspec": {
      "name": "python3",
      "display_name": "Python 3"
    },
    "language_info": {
      "name": "python"
    }
  },
  "cells": [
    {
      "cell_type": "markdown",
      "metadata": {
        "id": "view-in-github",
        "colab_type": "text"
      },
      "source": [
        "<a href=\"https://colab.research.google.com/github/NroyAnalyst/Nishant/blob/main/Sentiment%20Analysis%20using%20hugging%20transformers.ipynb\" target=\"_parent\"><img src=\"https://colab.research.google.com/assets/colab-badge.svg\" alt=\"Open In Colab\"/></a>"
      ]
    },
    {
      "cell_type": "code",
      "execution_count": 3,
      "metadata": {
        "colab": {
          "base_uri": "https://localhost:8080/"
        },
        "id": "Kq9Yyxm5TTuB",
        "outputId": "75ce4ce8-9e24-484d-8f40-d2b7733d5368"
      },
      "outputs": [
        {
          "output_type": "stream",
          "name": "stderr",
          "text": [
            "No model was supplied, defaulted to distilbert/distilbert-base-uncased-finetuned-sst-2-english and revision 714eb0f (https://huggingface.co/distilbert/distilbert-base-uncased-finetuned-sst-2-english).\n",
            "Using a pipeline without specifying a model name and revision in production is not recommended.\n",
            "Device set to use cpu\n"
          ]
        },
        {
          "output_type": "stream",
          "name": "stdout",
          "text": [
            "Text: I absolutely loved the new spider-man movie\n",
            "Label:POSITIVE, Score 1.00\n",
            "\n",
            "Text: I hate waiting in long queues\n",
            "Label:NEGATIVE, Score 1.00\n",
            "\n",
            "Text: The book was fine. Nothing special.\n",
            "Label:NEGATIVE, Score 0.73\n",
            "\n"
          ]
        }
      ],
      "source": [
        "from transformers import pipeline\n",
        "#load pre-trained sentiment model\n",
        "sentiment_pipeline = pipeline (\"sentiment-analysis\")\n",
        "\n",
        "#test\n",
        "texts = [\n",
        "    \"I absolutely loved the new spider-man movie\",\n",
        "    \"I hate waiting in long queues\",\n",
        "    \"The book was fine. Nothing special.\"\n",
        "]\n",
        "\n",
        "results = sentiment_pipeline(texts)\n",
        "\n",
        "for text, result in zip(texts,results):\n",
        "  print(f\"Text: {text}\\nLabel:{result['label']}, Score {result['score']:.2f}\\n\")\n"
      ]
    }
  ]
}