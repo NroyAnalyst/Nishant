{
  "nbformat": 4,
  "nbformat_minor": 0,
  "metadata": {
    "colab": {
      "provenance": [],
      "authorship_tag": "ABX9TyN0tqfjd6NrMWZvW85Tc5SV",
      "include_colab_link": true
    },
    "kernelspec": {
      "name": "python3",
      "display_name": "Python 3"
    },
    "language_info": {
      "name": "python"
    }
  },
  "cells": [
    {
      "cell_type": "markdown",
      "metadata": {
        "id": "view-in-github",
        "colab_type": "text"
      },
      "source": [
        "<a href=\"https://colab.research.google.com/github/NroyAnalyst/Nishant/blob/main/Using%20dataset%20make%20movie%20recommendation%20system.ipynb\" target=\"_parent\"><img src=\"https://colab.research.google.com/assets/colab-badge.svg\" alt=\"Open In Colab\"/></a>"
      ]
    },
    {
      "cell_type": "code",
      "source": [
        "import pandas as pd\n",
        "import numpy as np\n",
        "from sklearn.feature_extraction.text import TfidfVectorizer\n",
        "from sklearn.metrics.pairwise import cosine_similarity\n",
        "\n",
        "try:\n",
        "    data = pd.read_csv('/content/credits.csv', engine='python', on_bad_lines='skip')\n",
        "    print(data.head())\n",
        "except Exception as e:\n",
        "    print(f\"An error occurred: {e}\")\n",
        "\n",
        "vectorizer  = TfidfVectorizer(stop_words= 'english')\n",
        "tfid_matrix = vectorizer.fit_transform(data['cast'].fillna('') + ' ' + data['crew'].fillna('') + ' ' + data['title'].fillna(''))\n",
        "cosine_sim = cosine_similarity(tfid_matrix, tfid_matrix)\n",
        "\n",
        "def recommend_movies(title, data, cosine_sim):\n",
        "  idx = data[data['title'] == title].index[0]\n",
        "  sim_scores = list(enumerate(cosine_sim[idx]))\n",
        "  sim_scores = sorted(sim_scores, key = lambda x:x[1], reverse = True)[1:6]\n",
        "  movie_indices = [i[0] for i in sim_scores]\n",
        "\n",
        "  return data['title'].iloc[movie_indices]\n",
        "\n",
        "print(\"movie similar to 'The Dark Knight Rises':\")\n",
        "print(recommend_movies('The Dark Knight Rises',data,cosine_sim))\n",
        "\n",
        "print(\"\\n movies similar to 'Avatar':\")\n",
        "print(recommend_movies('Avatar',data,cosine_sim))"
      ],
      "metadata": {
        "colab": {
          "base_uri": "https://localhost:8080/"
        },
        "id": "OZtHYJnLQ6QP",
        "outputId": "7778fd6c-ac71-4882-c7a6-600b92f5a24b"
      },
      "execution_count": 45,
      "outputs": [
        {
          "output_type": "stream",
          "name": "stdout",
          "text": [
            "   movie_id                                     title  \\\n",
            "0     19995                                    Avatar   \n",
            "1       285  Pirates of the Caribbean: At World's End   \n",
            "2    206647                                   Spectre   \n",
            "3     49026                     The Dark Knight Rises   \n",
            "4     49529                               John Carter   \n",
            "\n",
            "                                                cast  \\\n",
            "0  [{\"cast_id\": 242, \"character\": \"Jake Sully\", \"...   \n",
            "1  [{\"cast_id\": 4, \"character\": \"Captain Jack Spa...   \n",
            "2  [{\"cast_id\": 1, \"character\": \"James Bond\", \"cr...   \n",
            "3  [{\"cast_id\": 2, \"character\": \"Bruce Wayne / Ba...   \n",
            "4  [{\"cast_id\": 5, \"character\": \"John Carter\", \"c...   \n",
            "\n",
            "                                                crew  \n",
            "0  [{\"credit_id\": \"52fe48009251416c750aca23\", \"de...  \n",
            "1  [{\"credit_id\": \"52fe4232c3a36847f800b579\", \"de...  \n",
            "2  [{\"credit_id\": \"54805967c3a36829b5002c41\", \"de...  \n",
            "3  [{\"credit_id\": \"52fe4781c3a36847f81398c3\", \"de...  \n",
            "4  [{\"credit_id\": \"52fe479ac3a36847f813eaa3\", \"de...  \n",
            "movie similar to 'The Dark Knight Rises':\n",
            "298     The Wolf of Wall Street\n",
            "119               Batman Begins\n",
            "65              The Dark Knight\n",
            "1133                 15 Minutes\n",
            "159                  Spider-Man\n",
            "Name: title, dtype: object\n",
            "\n",
            " movies similar to 'Avatar':\n",
            "412                               The Core\n",
            "212                 The Day After Tomorrow\n",
            "169     Captain America: The First Avenger\n",
            "365                                Contact\n",
            "100    The Curious Case of Benjamin Button\n",
            "Name: title, dtype: object\n"
          ]
        }
      ]
    }
  ]
}